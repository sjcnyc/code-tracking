{
 "cells": [
  {
   "cell_type": "code",
   "execution_count": 11,
   "metadata": {},
   "outputs": [
    {
     "name": "stdout",
     "output_type": "stream",
     "text": [
      "sean\n",
      "lou\n",
      "jon\n",
      "bill\n"
     ]
    }
   ],
   "source": [
    "$users = @\"\n",
    "sean\n",
    "lou\n",
    "jon\n",
    "bill\n",
    "\"@ -split [environment]::NewLine\n",
    "\n",
    "$users"
   ]
  },
  {
   "cell_type": "markdown",
   "metadata": {},
   "source": [
    "Create here string"
   ]
  },
  {
   "cell_type": "code",
   "execution_count": 12,
   "metadata": {},
   "outputs": [
    {
     "name": "stdout",
     "output_type": "stream",
     "text": [
      "User name is: sean\n",
      "lou\n",
      "jon\n",
      "bill\n"
     ]
    }
   ],
   "source": [
    "foreach ($user in $users){\n",
    "    Write-Output \"User name is: $($user)\"\n",
    "}"
   ]
  },
  {
   "cell_type": "markdown",
   "metadata": {},
   "source": [
    "Loop through all values in $users and output $user name"
   ]
  }
 ],
 "metadata": {
  "kernelspec": {
   "display_name": ".NET (PowerShell)",
   "language": "PowerShell",
   "name": ".net-powershell"
  },
  "language_info": {
   "file_extension": ".ps1",
   "mimetype": "text/x-powershell",
   "name": "PowerShell",
   "pygments_lexer": "powershell",
   "version": "7.0"
  }
 },
 "nbformat": 4,
 "nbformat_minor": 4
}
